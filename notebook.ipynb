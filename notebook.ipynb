{
 "cells": [
  {
   "attachments": {},
   "cell_type": "markdown",
   "metadata": {},
   "source": [
    "# Question-Answer with PDFs and Transformers"
   ]
  },
  {
   "attachments": {},
   "cell_type": "markdown",
   "metadata": {},
   "source": [
    "### Imports"
   ]
  },
  {
   "cell_type": "code",
   "execution_count": null,
   "metadata": {},
   "outputs": [],
   "source": [
    "from pathlib import Path\n",
    "from typing import Union\n",
    "from pypdf import PdfReader\n",
    "from transformers import pipeline\n",
    "import gradio as gr"
   ]
  },
  {
   "attachments": {},
   "cell_type": "markdown",
   "metadata": {},
   "source": [
    "### Retrieval using PyPDF"
   ]
  },
  {
   "cell_type": "code",
   "execution_count": null,
   "metadata": {},
   "outputs": [],
   "source": [
    "def retrieve_text_from_pdf(pdf_file):\n",
    "    \"\"\"Reads the PDF from the provided path amd returns a string\"\"\"\n",
    "\n",
    "    reader = PdfReader(pdf_file)\n",
    "\n",
    "    all_text = \"\"\n",
    "    for page in reader.pages:\n",
    "        all_text += page.extract_text()\n",
    "    return all_text"
   ]
  },
  {
   "attachments": {},
   "cell_type": "markdown",
   "metadata": {},
   "source": [
    "### Actual extraction of the text"
   ]
  },
  {
   "cell_type": "code",
   "execution_count": null,
   "metadata": {},
   "outputs": [],
   "source": [
    "pdf_text_all = retrieve_text_from_pdf(\"Uber-Q2-24-Earnings-Press-Release.pdf\")"
   ]
  },
  {
   "cell_type": "code",
   "execution_count": null,
   "metadata": {},
   "outputs": [],
   "source": [
    "# Verify text has been read using index\n",
    "pdf_text_all[:300]"
   ]
  },
  {
   "attachments": {},
   "cell_type": "markdown",
   "metadata": {},
   "source": [
    "### Creating pipeline to answer questions using pre-trained model"
   ]
  },
  {
   "cell_type": "code",
   "execution_count": null,
   "metadata": {},
   "outputs": [],
   "source": [
    "answers_questions = pipeline(task=\"question-answering\", model=\"deepset/tinyroberta-squad2\")"
   ]
  },
  {
   "attachments": {},
   "cell_type": "markdown",
   "metadata": {},
   "source": [
    "### Testing"
   ]
  },
  {
   "cell_type": "code",
   "execution_count": null,
   "metadata": {},
   "outputs": [],
   "source": [
    "# Question Theme: Operating cash flow\n",
    "answers_questions(\"What is the operating cash flow?\", pdf_text_all)"
   ]
  },
  {
   "cell_type": "code",
   "execution_count": null,
   "metadata": {},
   "outputs": [],
   "source": [
    "# Question Theme: Active Platform Consumers\n",
    "answers_questions(\"What was the total number of monthly active platform consumers?\", pdf_text_all)"
   ]
  },
  {
   "cell_type": "code",
   "execution_count": null,
   "metadata": {},
   "outputs": [],
   "source": [
    "# Question Theme: Expansion\n",
    "answers_questions(\"Where did UberX expand to?\", pdf_text_all)"
   ]
  },
  {
   "attachments": {},
   "cell_type": "markdown",
   "metadata": {},
   "source": [
    "### Creating App to display model output"
   ]
  },
  {
   "cell_type": "code",
   "execution_count": null,
   "metadata": {},
   "outputs": [],
   "source": [
    "# Displaying model output\n",
    "def extract_answer_from_output(pdf_file, question):\n",
    "    pdf_text_all = retrieve_text_from_pdf(pdf_file)\n",
    "    answer = answers_questions(question, pdf_text_all)\n",
    "    return answer[\"answer\"]"
   ]
  },
  {
   "cell_type": "code",
   "execution_count": null,
   "metadata": {},
   "outputs": [],
   "source": [
    "# Setup for app\n",
    "pdf_input = gr.File(file_types=[\".pdf\"], label=\"Upload a PDF document and ask a question about the content.\")\n",
    "question = gr.Textbox(label=\"Type a question about the uploaded document here.\")\n",
    "gr.Interface(fn=extract_answer_from_output, inputs=[pdf_input, question], outputs=\"text\").launch()"
   ]
  }
 ],
 "metadata": {
  "kernelspec": {
   "display_name": ".venv",
   "language": "python",
   "name": "python3"
  },
  "language_info": {
   "codemirror_mode": {
    "name": "ipython",
    "version": 3
   },
   "file_extension": ".py",
   "mimetype": "text/x-python",
   "name": "python",
   "nbconvert_exporter": "python",
   "pygments_lexer": "ipython3",
   "version": "3.10.9 (v3.10.9:1dd9be6584, Dec  6 2022, 14:37:36) [Clang 13.0.0 (clang-1300.0.29.30)]"
  },
  "orig_nbformat": 4,
  "vscode": {
   "interpreter": {
    "hash": "93e32bb261ee65a9672bd776be871a629925fc740343a68f042818af11ab6eba"
   }
  }
 },
 "nbformat": 4,
 "nbformat_minor": 2
}
