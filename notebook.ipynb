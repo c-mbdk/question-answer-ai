{
 "cells": [
  {
   "cell_type": "code",
   "execution_count": null,
   "metadata": {},
   "outputs": [],
   "source": [
    "from pathlib import Path\n",
    "from typing import Union\n",
    "from pypdf import PdfReader\n",
    "from transformers import pipeline\n",
    "import gradio as gr"
   ]
  },
  {
   "cell_type": "code",
   "execution_count": 2,
   "metadata": {},
   "outputs": [],
   "source": [
    "# Retrieval function - text from PDF\n",
    "def retrieve_text_from_pdf(pdf_file):\n",
    "    \"\"\"Reads the PDF from the provided path amd returns a string\"\"\"\n",
    "\n",
    "    reader = PdfReader(pdf_file)\n",
    "\n",
    "    all_text = \"\"\n",
    "    for page in reader.pages:\n",
    "        all_text += page.extract_text()\n",
    "    return all_text"
   ]
  },
  {
   "cell_type": "code",
   "execution_count": 3,
   "metadata": {},
   "outputs": [],
   "source": [
    "# Actual PDF text\n",
    "pdf_text_all = retrieve_text_from_pdf(\"Uber-Q2-24-Earnings-Press-Release.pdf\")"
   ]
  },
  {
   "cell_type": "code",
   "execution_count": 4,
   "metadata": {},
   "outputs": [
    {
     "data": {
      "text/plain": [
       "' \\n \\n \\n1    \\nUber Announces Results for Second Quarter  2024  \\n \\nGross Bookings grew  19% year-over-year and 21% year-over-year on a constant currency basis  \\nIncome from operations of $796 million ; Adjusted EBITDA of $1.6 billion , up 71% year-over-year \\nOperating cash flow of $1.8 billion ; Free c'"
      ]
     },
     "execution_count": 4,
     "metadata": {},
     "output_type": "execute_result"
    }
   ],
   "source": [
    "# Verify text has been read using index\n",
    "pdf_text_all[:300]"
   ]
  },
  {
   "cell_type": "code",
   "execution_count": 5,
   "metadata": {},
   "outputs": [
    {
     "name": "stderr",
     "output_type": "stream",
     "text": [
      "/Users/chisommgbedike/Documents/Documents - Chisom’s MacBook Pro/Projects/question-answer-ai/.venv/lib/python3.10/site-packages/transformers/tokenization_utils_base.py:1601: FutureWarning: `clean_up_tokenization_spaces` was not set. It will be set to `True` by default. This behavior will be depracted in transformers v4.45, and will be then set to `False` by default. For more details check this issue: https://github.com/huggingface/transformers/issues/31884\n",
      "  warnings.warn(\n",
      "Hardware accelerator e.g. GPU is available in the environment, but no `device` argument is passed to the `Pipeline` object. Model will be on CPU.\n"
     ]
    }
   ],
   "source": [
    "# Create pipeline to answer questions with pre-trained model\n",
    "answers_questions = pipeline(task=\"question-answering\", model=\"deepset/tinyroberta-squad2\")"
   ]
  },
  {
   "cell_type": "code",
   "execution_count": 6,
   "metadata": {},
   "outputs": [
    {
     "data": {
      "text/plain": [
       "{'score': 0.8730255365371704,\n",
       " 'start': 279,\n",
       " 'end': 291,\n",
       " 'answer': '$1.8 billion'}"
      ]
     },
     "execution_count": 6,
     "metadata": {},
     "output_type": "execute_result"
    }
   ],
   "source": [
    "# Question Theme: Operating cash flow\n",
    "answers_questions(\"What is the operating cash flow?\", pdf_text_all)"
   ]
  },
  {
   "cell_type": "code",
   "execution_count": 7,
   "metadata": {},
   "outputs": [
    {
     "data": {
      "text/plain": [
       "{'score': 0.9715433120727539,\n",
       " 'start': 12492,\n",
       " 'end': 12503,\n",
       " 'answer': '156 million'}"
      ]
     },
     "execution_count": 7,
     "metadata": {},
     "output_type": "execute_result"
    }
   ],
   "source": [
    "# Question Theme: Active Platform Consumers\n",
    "answers_questions(\"What was the total number of monthly active platform consumers?\", pdf_text_all)"
   ]
  },
  {
   "cell_type": "code",
   "execution_count": 8,
   "metadata": {},
   "outputs": [
    {
     "data": {
      "text/plain": [
       "{'score': 0.9630413055419922,\n",
       " 'start': 15572,\n",
       " 'end': 15594,\n",
       " 'answer': 'Hungary and Luxembourg'}"
      ]
     },
     "execution_count": 8,
     "metadata": {},
     "output_type": "execute_result"
    }
   ],
   "source": [
    "# Question Theme: Expansion\n",
    "answers_questions(\"Where did UberX expand to?\", pdf_text_all)"
   ]
  },
  {
   "cell_type": "code",
   "execution_count": 9,
   "metadata": {},
   "outputs": [],
   "source": [
    "# Displaying model output\n",
    "def extract_answer_from_output(pdf_file, question):\n",
    "    pdf_text_all = retrieve_text_from_pdf(pdf_file)\n",
    "    answer = answers_questions(question, pdf_text_all)\n",
    "    return answer[\"answer\"]"
   ]
  },
  {
   "cell_type": "code",
   "execution_count": 10,
   "metadata": {},
   "outputs": [
    {
     "name": "stdout",
     "output_type": "stream",
     "text": [
      "Running on local URL:  http://127.0.0.1:7860\n",
      "\n",
      "To create a public link, set `share=True` in `launch()`.\n"
     ]
    },
    {
     "data": {
      "text/html": [
       "<div><iframe src=\"http://127.0.0.1:7860/\" width=\"100%\" height=\"500\" allow=\"autoplay; camera; microphone; clipboard-read; clipboard-write;\" frameborder=\"0\" allowfullscreen></iframe></div>"
      ],
      "text/plain": [
       "<IPython.core.display.HTML object>"
      ]
     },
     "metadata": {},
     "output_type": "display_data"
    },
    {
     "data": {
      "text/plain": []
     },
     "execution_count": 10,
     "metadata": {},
     "output_type": "execute_result"
    }
   ],
   "source": [
    "# Setup for app\n",
    "pdf_input = gr.File(file_types=[\".pdf\"], label=\"Upload a PDF document and ask a question about the content.\")\n",
    "question = gr.Textbox(label=\"Type a question about the uploaded document here.\")\n",
    "gr.Interface(fn=extract_answer_from_output, inputs=[pdf_input, question], outputs=\"text\").launch()"
   ]
  }
 ],
 "metadata": {
  "kernelspec": {
   "display_name": ".venv",
   "language": "python",
   "name": "python3"
  },
  "language_info": {
   "codemirror_mode": {
    "name": "ipython",
    "version": 3
   },
   "file_extension": ".py",
   "mimetype": "text/x-python",
   "name": "python",
   "nbconvert_exporter": "python",
   "pygments_lexer": "ipython3",
   "version": "3.10.9"
  },
  "orig_nbformat": 4,
  "vscode": {
   "interpreter": {
    "hash": "93e32bb261ee65a9672bd776be871a629925fc740343a68f042818af11ab6eba"
   }
  }
 },
 "nbformat": 4,
 "nbformat_minor": 2
}
